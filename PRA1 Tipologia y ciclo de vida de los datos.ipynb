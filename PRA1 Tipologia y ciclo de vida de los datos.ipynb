{
 "cells": [
  {
   "cell_type": "code",
   "execution_count": 1,
   "metadata": {},
   "outputs": [],
   "source": [
    "from selenium import webdriver\n",
    "from selenium.webdriver.common.keys import Keys"
   ]
  },
  {
   "cell_type": "code",
   "execution_count": 2,
   "metadata": {},
   "outputs": [],
   "source": [
    "import numpy as np\n",
    "import pandas as pd "
   ]
  },
  {
   "cell_type": "code",
   "execution_count": 3,
   "metadata": {},
   "outputs": [],
   "source": [
    "# se carga el cliente del navegador, en este caso Chrome, mediante webdriver \n",
    "driver = webdriver.Chrome(\"chromedriver.exe\")"
   ]
  },
  {
   "cell_type": "code",
   "execution_count": 4,
   "metadata": {},
   "outputs": [
    {
     "name": "stdout",
     "output_type": "stream",
     "text": [
      "¡Cargada1\n"
     ]
    }
   ],
   "source": [
    "# pagina de la que se van a obtener datos, requiere interacción.\n",
    "# Sede electrónica del catastro,buscador de inmuebles.\n",
    "url = \"https://www1.sedecatastro.gob.es/CYCBienInmueble/OVCBusqueda.aspx\"\n",
    "driver.get(url)\n",
    "print(\"¡Cargada1\")"
   ]
  },
  {
   "cell_type": "code",
   "execution_count": 5,
   "metadata": {},
   "outputs": [],
   "source": [
    "# para obtener datos deseados requerimos ir a través de objeto COORDENADAS de la pagina y pulsacion \n",
    "coord = driver.find_element_by_link_text(\"COORDENADAS\")\n",
    "coord.click()"
   ]
  },
  {
   "cell_type": "code",
   "execution_count": 6,
   "metadata": {},
   "outputs": [],
   "source": [
    "# variables necesarias para obtener los datos  \n",
    "lat=driver.find_element_by_id(\"ctl00_Contenido_txtLatitud\")\n",
    "lon=driver.find_element_by_id(\"ctl00_Contenido_txtLongitud\")"
   ]
  },
  {
   "cell_type": "code",
   "execution_count": 7,
   "metadata": {},
   "outputs": [],
   "source": [
    "#introducimos datos que tenemos(corresponden al Teide), para obtener los deseados  \n",
    "latitud = \"28.2723368\"\n",
    "longitud = \"-16.6600606\"\n",
    "lat.send_keys(latitud)\n",
    "lon.send_keys(longitud)"
   ]
  },
  {
   "cell_type": "code",
   "execution_count": 8,
   "metadata": {},
   "outputs": [],
   "source": [
    "# para obtener contenido desdeado, mediante objeto DATOS\n",
    "datos=driver.find_element_by_id(\"ctl00_Contenido_btnDatos\")"
   ]
  },
  {
   "cell_type": "code",
   "execution_count": 9,
   "metadata": {},
   "outputs": [],
   "source": [
    "# pulsación boton\n",
    "datos.click()"
   ]
  },
  {
   "cell_type": "code",
   "execution_count": 10,
   "metadata": {},
   "outputs": [],
   "source": [
    "# guardamos el contenido obtenido en variable identificando por el id concreto que nos interesa\n",
    "datosinmueble=driver.find_element_by_id(\"ctl00_Contenido_tblInmueble\")"
   ]
  },
  {
   "cell_type": "code",
   "execution_count": 11,
   "metadata": {},
   "outputs": [
    {
     "name": "stdout",
     "output_type": "stream",
     "text": [
      "38026A035000010000EI    \n"
     ]
    }
   ],
   "source": [
    "# se puede tambien obtener contenido obtenido mediante xpath por el elemento que nos interesa\n",
    "label = datosinmueble.find_element_by_xpath(\"//label\")\n",
    "print(label.text)"
   ]
  },
  {
   "cell_type": "code",
   "execution_count": 12,
   "metadata": {},
   "outputs": [],
   "source": [
    "# guardamos el contenido obtenido en variable identificando por el id concreto que nos interesa\n",
    "datosparcela=driver.find_element_by_id(\"ctl00_Contenido_tblFinca\")"
   ]
  },
  {
   "cell_type": "code",
   "execution_count": 13,
   "metadata": {},
   "outputs": [
    {
     "name": "stdout",
     "output_type": "stream",
     "text": [
      "38026A035000010000EI    \n",
      "Polígono 35 Parcela 1 PARQUE NACINAL DEL TEIDE\n",
      "MONTE. LA OROTAVA (S.C. TENERIFE)\n",
      "Rústico\n",
      "Agrario\n",
      "1965\n",
      "73.631.526 m2\n"
     ]
    }
   ],
   "source": [
    "# mostramos contenido obtenido mediante xpath por el elemento que nos interesa.\n",
    "xpath = \"//label[@class='control-label black text-left']\"\n",
    "etiqs = datosparcela.find_elements_by_xpath(xpath)\n",
    "print(etiqs[0].text)\n",
    "print(etiqs[1].text)\n",
    "print(etiqs[2].text)\n",
    "print(etiqs[3].text)\n",
    "print(etiqs[5].text)\n",
    "print(etiqs[7].text)                "
   ]
  },
  {
   "cell_type": "code",
   "execution_count": 14,
   "metadata": {},
   "outputs": [
    {
     "name": "stdout",
     "output_type": "stream",
     "text": [
      "       Referencia Catastral\n",
      "0  38026A035000010000EI    \n"
     ]
    }
   ],
   "source": [
    "# guardamos datos en estructura DataFrame\n",
    "df1 = pd.DataFrame(data = [{'Referencia Catastral':etiqs[0].text}])\n",
    "print(df1)"
   ]
  },
  {
   "cell_type": "code",
   "execution_count": 15,
   "metadata": {},
   "outputs": [
    {
     "name": "stdout",
     "output_type": "stream",
     "text": [
      "                                        Localizacion\n",
      "0  Polígono 35 Parcela 1 PARQUE NACINAL DEL TEIDE...\n"
     ]
    }
   ],
   "source": [
    "df2 = pd.DataFrame(data = [{'Localizacion':etiqs[1].text}])\n",
    "print(df2)"
   ]
  },
  {
   "cell_type": "code",
   "execution_count": 16,
   "metadata": {},
   "outputs": [
    {
     "name": "stdout",
     "output_type": "stream",
     "text": [
      "     Clase\n",
      "0  Rústico\n"
     ]
    }
   ],
   "source": [
    "df3 = pd.DataFrame(data = [{'Clase':etiqs[2].text}])\n",
    "print(df3)"
   ]
  },
  {
   "cell_type": "code",
   "execution_count": 17,
   "metadata": {},
   "outputs": [
    {
     "name": "stdout",
     "output_type": "stream",
     "text": [
      "  Uso principal\n",
      "0       Agrario\n"
     ]
    }
   ],
   "source": [
    "df4 = pd.DataFrame(data = [{'Uso principal':etiqs[3].text}])\n",
    "print(df4)"
   ]
  },
  {
   "cell_type": "code",
   "execution_count": 18,
   "metadata": {},
   "outputs": [
    {
     "name": "stdout",
     "output_type": "stream",
     "text": [
      "  Superficie construida\n",
      "0              3.704 m2\n"
     ]
    }
   ],
   "source": [
    "df5 = pd.DataFrame(data = [{'Superficie construida':etiqs[4].text}])\n",
    "print(df5)"
   ]
  },
  {
   "cell_type": "code",
   "execution_count": 19,
   "metadata": {},
   "outputs": [
    {
     "name": "stdout",
     "output_type": "stream",
     "text": [
      "  Construccion en \n",
      "0             1965\n"
     ]
    }
   ],
   "source": [
    "df6 = pd.DataFrame(data = [{'Construccion en ':etiqs[5].text}])\n",
    "print(df6)"
   ]
  },
  {
   "cell_type": "code",
   "execution_count": 20,
   "metadata": {},
   "outputs": [
    {
     "data": {
      "text/html": [
       "<div>\n",
       "<style scoped>\n",
       "    .dataframe tbody tr th:only-of-type {\n",
       "        vertical-align: middle;\n",
       "    }\n",
       "\n",
       "    .dataframe tbody tr th {\n",
       "        vertical-align: top;\n",
       "    }\n",
       "\n",
       "    .dataframe thead th {\n",
       "        text-align: right;\n",
       "    }\n",
       "</style>\n",
       "<table border=\"1\" class=\"dataframe\">\n",
       "  <thead>\n",
       "    <tr style=\"text-align: right;\">\n",
       "      <th></th>\n",
       "      <th>Referencia Catastral</th>\n",
       "      <th>Localizacion</th>\n",
       "      <th>Clase</th>\n",
       "      <th>Uso principal</th>\n",
       "      <th>Superficie construida</th>\n",
       "      <th>Construccion en</th>\n",
       "    </tr>\n",
       "  </thead>\n",
       "  <tbody>\n",
       "    <tr>\n",
       "      <th>0</th>\n",
       "      <td>38026A035000010000EI</td>\n",
       "      <td>Polígono 35 Parcela 1 PARQUE NACINAL DEL TEIDE...</td>\n",
       "      <td>Rústico</td>\n",
       "      <td>Agrario</td>\n",
       "      <td>3.704 m2</td>\n",
       "      <td>1965</td>\n",
       "    </tr>\n",
       "  </tbody>\n",
       "</table>\n",
       "</div>"
      ],
      "text/plain": [
       "       Referencia Catastral  \\\n",
       "0  38026A035000010000EI       \n",
       "\n",
       "                                        Localizacion    Clase Uso principal  \\\n",
       "0  Polígono 35 Parcela 1 PARQUE NACINAL DEL TEIDE...  Rústico       Agrario   \n",
       "\n",
       "  Superficie construida Construccion en   \n",
       "0              3.704 m2             1965  "
      ]
     },
     "execution_count": 20,
     "metadata": {},
     "output_type": "execute_result"
    }
   ],
   "source": [
    "# se unen los DataFrames \n",
    "fusioncab = pd.concat([df1,df2,df3,df4,df5,df6] , axis = 1)\n",
    "fusioncab"
   ]
  },
  {
   "cell_type": "code",
   "execution_count": 21,
   "metadata": {},
   "outputs": [],
   "source": [
    "# se pasa a un fichero csv esta parte de celda anterior, que llamo cabecera  \n",
    "fusioncab.to_csv('./datoscabecera.csv',header = True,sep = ';', index = False,na_rep = 0)"
   ]
  },
  {
   "cell_type": "code",
   "execution_count": 22,
   "metadata": {},
   "outputs": [],
   "source": [
    "# guardamos el contenido obtenido en variable identificando por el id concreto que nos interesa\n",
    "datoscultivo=driver.find_element_by_id(\"ctl00_Contenido_tblCultivos\")"
   ]
  },
  {
   "cell_type": "code",
   "execution_count": 23,
   "metadata": {},
   "outputs": [
    {
     "name": "stdout",
     "output_type": "stream",
     "text": [
      "11\n",
      "[<selenium.webdriver.remote.webelement.WebElement (session=\"14329e1397ee8cf27d5a554b15add58f\", element=\"0e46c268-c787-4c5d-bae0-a541db3308e7\")>, <selenium.webdriver.remote.webelement.WebElement (session=\"14329e1397ee8cf27d5a554b15add58f\", element=\"0f698d31-c522-4572-9167-a7fd50530785\")>, <selenium.webdriver.remote.webelement.WebElement (session=\"14329e1397ee8cf27d5a554b15add58f\", element=\"b39b144b-cb02-4a46-93bf-1fd862754d81\")>, <selenium.webdriver.remote.webelement.WebElement (session=\"14329e1397ee8cf27d5a554b15add58f\", element=\"024b6596-ad3b-4b34-8499-2a4d3024b90f\")>, <selenium.webdriver.remote.webelement.WebElement (session=\"14329e1397ee8cf27d5a554b15add58f\", element=\"7371fce1-92da-45d2-9f00-09f75aa8b1e6\")>, <selenium.webdriver.remote.webelement.WebElement (session=\"14329e1397ee8cf27d5a554b15add58f\", element=\"5dd8c503-15f8-449e-b893-4ac48f8bc423\")>, <selenium.webdriver.remote.webelement.WebElement (session=\"14329e1397ee8cf27d5a554b15add58f\", element=\"7bdcc03a-10d7-44f9-a6cc-4de0617df821\")>, <selenium.webdriver.remote.webelement.WebElement (session=\"14329e1397ee8cf27d5a554b15add58f\", element=\"04ccc4b5-e214-40c0-9b55-449c17c341f9\")>, <selenium.webdriver.remote.webelement.WebElement (session=\"14329e1397ee8cf27d5a554b15add58f\", element=\"3b0bb959-f7e7-40c4-98c6-8520aa96771b\")>, <selenium.webdriver.remote.webelement.WebElement (session=\"14329e1397ee8cf27d5a554b15add58f\", element=\"097375c3-5705-4e46-9e20-31cc0c6767ec\")>, <selenium.webdriver.remote.webelement.WebElement (session=\"14329e1397ee8cf27d5a554b15add58f\", element=\"0a717d2d-393d-4698-b853-b08d7522793a\")>]\n"
     ]
    }
   ],
   "source": [
    "# obtengo elementos que son o forman parte de una tabla, en concreto serán las columnas posteriormente.\n",
    "# son de tipo WebElement\n",
    "labelstabla = datoscultivo.find_elements_by_xpath(\"//th\")\n",
    "print(len(labelstabla))\n",
    "print(labelstabla)"
   ]
  },
  {
   "cell_type": "code",
   "execution_count": 24,
   "metadata": {},
   "outputs": [
    {
     "name": "stdout",
     "output_type": "stream",
     "text": [
      "['Uso principal', 'Escalera', 'Planta', 'Puerta', 'Superficie m2', 'Tipo Reforma', 'Fecha Reforma', 'Subparcela', 'Cultivo/Aprovechamiento', 'Intensidad Productiva', 'Superficie m2']\n"
     ]
    }
   ],
   "source": [
    "# se recorre lista y se imprime para comprobar\n",
    "count = 0\n",
    "lista_p = list()\n",
    "\n",
    "for i in labelstabla:\n",
    "    if count < 11:\n",
    "        lista_p.append(i.text)\n",
    "    else:\n",
    "        break\n",
    "    count +=1\n",
    "print(lista_p)\n"
   ]
  },
  {
   "cell_type": "code",
   "execution_count": 25,
   "metadata": {},
   "outputs": [
    {
     "name": "stdout",
     "output_type": "stream",
     "text": [
      "152\n",
      "[<selenium.webdriver.remote.webelement.WebElement (session=\"14329e1397ee8cf27d5a554b15add58f\", element=\"0b889ecb-f8d9-44f5-9ef7-c15e7d52f8ca\")>, <selenium.webdriver.remote.webelement.WebElement (session=\"14329e1397ee8cf27d5a554b15add58f\", element=\"9839b77c-f7e3-4213-9b6d-30b25a2ac0c0\")>, <selenium.webdriver.remote.webelement.WebElement (session=\"14329e1397ee8cf27d5a554b15add58f\", element=\"e4558e67-4b22-4dc8-84fd-2c9728a1577b\")>, <selenium.webdriver.remote.webelement.WebElement (session=\"14329e1397ee8cf27d5a554b15add58f\", element=\"be6f669e-48b5-4f99-bec6-6c8b39f86e7c\")>, <selenium.webdriver.remote.webelement.WebElement (session=\"14329e1397ee8cf27d5a554b15add58f\", element=\"328eb8c9-dc79-4ef9-95c8-49a22a0d150b\")>, <selenium.webdriver.remote.webelement.WebElement (session=\"14329e1397ee8cf27d5a554b15add58f\", element=\"877d56ea-939c-4f7d-9635-f8568e1f8961\")>, <selenium.webdriver.remote.webelement.WebElement (session=\"14329e1397ee8cf27d5a554b15add58f\", element=\"ac3b1289-0e62-4585-bd47-b3647ca9ac3d\")>, <selenium.webdriver.remote.webelement.WebElement (session=\"14329e1397ee8cf27d5a554b15add58f\", element=\"cf123d8f-8d0e-44b1-84b3-90f28aa2eac0\")>, <selenium.webdriver.remote.webelement.WebElement (session=\"14329e1397ee8cf27d5a554b15add58f\", element=\"71cbbc86-079f-461c-ae2a-a4f489005396\")>, <selenium.webdriver.remote.webelement.WebElement (session=\"14329e1397ee8cf27d5a554b15add58f\", element=\"b805d64b-7520-4a09-8e77-25f540a21738\")>, <selenium.webdriver.remote.webelement.WebElement (session=\"14329e1397ee8cf27d5a554b15add58f\", element=\"99050207-bcbd-4715-b534-3bb0a0df1207\")>, <selenium.webdriver.remote.webelement.WebElement (session=\"14329e1397ee8cf27d5a554b15add58f\", element=\"016bdc80-de7b-4d64-a94c-0128166c425b\")>, <selenium.webdriver.remote.webelement.WebElement (session=\"14329e1397ee8cf27d5a554b15add58f\", element=\"cc1e5679-3463-4868-a61d-c0e06ce2bba0\")>, <selenium.webdriver.remote.webelement.WebElement (session=\"14329e1397ee8cf27d5a554b15add58f\", element=\"6f9a91a4-9c9b-4031-91b7-e675dcb4eef7\")>, <selenium.webdriver.remote.webelement.WebElement (session=\"14329e1397ee8cf27d5a554b15add58f\", element=\"7f2f5da9-2981-4866-8e41-fa0b289b87a3\")>, <selenium.webdriver.remote.webelement.WebElement (session=\"14329e1397ee8cf27d5a554b15add58f\", element=\"1cb9b7ee-15e7-449d-b990-a5ca0ac84eb9\")>, <selenium.webdriver.remote.webelement.WebElement (session=\"14329e1397ee8cf27d5a554b15add58f\", element=\"6d9f97cb-053e-4f33-8c8e-e51ae99c96dd\")>, <selenium.webdriver.remote.webelement.WebElement (session=\"14329e1397ee8cf27d5a554b15add58f\", element=\"78e13ceb-a6dc-433b-b3c0-e72d224ae28a\")>, <selenium.webdriver.remote.webelement.WebElement (session=\"14329e1397ee8cf27d5a554b15add58f\", element=\"f9dce690-d0b9-4fa8-8fb0-fa08bc714ae7\")>, <selenium.webdriver.remote.webelement.WebElement (session=\"14329e1397ee8cf27d5a554b15add58f\", element=\"e6a0059d-8364-420b-bd78-0982c864e22d\")>, <selenium.webdriver.remote.webelement.WebElement (session=\"14329e1397ee8cf27d5a554b15add58f\", element=\"f3ede727-6e0d-4cd3-bb0f-c23128157329\")>, <selenium.webdriver.remote.webelement.WebElement (session=\"14329e1397ee8cf27d5a554b15add58f\", element=\"ff5fa0be-7d14-465b-8224-42dc74ffe1eb\")>, <selenium.webdriver.remote.webelement.WebElement (session=\"14329e1397ee8cf27d5a554b15add58f\", element=\"a53ac803-0934-4066-a9ec-0d8ef7d384f7\")>, <selenium.webdriver.remote.webelement.WebElement (session=\"14329e1397ee8cf27d5a554b15add58f\", element=\"fa78c50e-bc36-4cad-844c-d228c07760e1\")>, <selenium.webdriver.remote.webelement.WebElement (session=\"14329e1397ee8cf27d5a554b15add58f\", element=\"d0aaebb9-9e40-47e1-8041-951e653ad5ca\")>, <selenium.webdriver.remote.webelement.WebElement (session=\"14329e1397ee8cf27d5a554b15add58f\", element=\"fe8ee2bd-c613-4625-849b-355734092c7c\")>, <selenium.webdriver.remote.webelement.WebElement (session=\"14329e1397ee8cf27d5a554b15add58f\", element=\"142cb967-c6b7-4cc9-b11e-72266aa93e34\")>, <selenium.webdriver.remote.webelement.WebElement (session=\"14329e1397ee8cf27d5a554b15add58f\", element=\"b7a99c7c-0588-4170-a672-a2a993499e25\")>, <selenium.webdriver.remote.webelement.WebElement (session=\"14329e1397ee8cf27d5a554b15add58f\", element=\"198ff642-9b41-4693-bcd5-03e3a9de9c8d\")>, <selenium.webdriver.remote.webelement.WebElement (session=\"14329e1397ee8cf27d5a554b15add58f\", element=\"feb809b6-7d58-471f-a7f3-ee5c37babc1c\")>, <selenium.webdriver.remote.webelement.WebElement (session=\"14329e1397ee8cf27d5a554b15add58f\", element=\"c162999d-314a-4739-b85b-bc0e8f9a65c7\")>, <selenium.webdriver.remote.webelement.WebElement (session=\"14329e1397ee8cf27d5a554b15add58f\", element=\"cba31ccb-4653-41aa-997f-1f0246977369\")>, <selenium.webdriver.remote.webelement.WebElement (session=\"14329e1397ee8cf27d5a554b15add58f\", element=\"56b1f5f6-5678-45af-8dae-5bb157051c40\")>, <selenium.webdriver.remote.webelement.WebElement (session=\"14329e1397ee8cf27d5a554b15add58f\", element=\"2b4cf4c2-cd0e-41d5-b2ce-44f90e300f24\")>, <selenium.webdriver.remote.webelement.WebElement (session=\"14329e1397ee8cf27d5a554b15add58f\", element=\"eae8200c-ae01-464b-bab3-bbe0030dd7d1\")>, <selenium.webdriver.remote.webelement.WebElement (session=\"14329e1397ee8cf27d5a554b15add58f\", element=\"7ee41bf0-ef1d-4b92-9680-83f410442452\")>, <selenium.webdriver.remote.webelement.WebElement (session=\"14329e1397ee8cf27d5a554b15add58f\", element=\"85335986-5cea-4587-b001-fb210d15c7e9\")>, <selenium.webdriver.remote.webelement.WebElement (session=\"14329e1397ee8cf27d5a554b15add58f\", element=\"64c6b4af-731e-4a1c-84b5-11110710ebd7\")>, <selenium.webdriver.remote.webelement.WebElement (session=\"14329e1397ee8cf27d5a554b15add58f\", element=\"f9c86eee-4d5f-4cfc-a21d-1c279a53e598\")>, <selenium.webdriver.remote.webelement.WebElement (session=\"14329e1397ee8cf27d5a554b15add58f\", element=\"2b7ba0b6-831d-487f-8d21-b385b4bc76d2\")>, <selenium.webdriver.remote.webelement.WebElement (session=\"14329e1397ee8cf27d5a554b15add58f\", element=\"52c61887-3a47-4cf1-8bfc-e7518975347e\")>, <selenium.webdriver.remote.webelement.WebElement (session=\"14329e1397ee8cf27d5a554b15add58f\", element=\"6d2da4c5-beea-4273-baf8-5942a5eadeaa\")>, <selenium.webdriver.remote.webelement.WebElement (session=\"14329e1397ee8cf27d5a554b15add58f\", element=\"bb0aa937-2b3a-40a7-834a-b8fe7c3be0cc\")>, <selenium.webdriver.remote.webelement.WebElement (session=\"14329e1397ee8cf27d5a554b15add58f\", element=\"091a5d60-a9bb-4840-a3bd-6c7634d3c303\")>, <selenium.webdriver.remote.webelement.WebElement (session=\"14329e1397ee8cf27d5a554b15add58f\", element=\"aeda4f90-07d2-4195-b874-b5e9f749e23d\")>, <selenium.webdriver.remote.webelement.WebElement (session=\"14329e1397ee8cf27d5a554b15add58f\", element=\"4bfe7424-5d6f-4fd7-9ac6-19055a84a730\")>, <selenium.webdriver.remote.webelement.WebElement (session=\"14329e1397ee8cf27d5a554b15add58f\", element=\"19b9ad9e-ee09-492d-8f6c-42fa8bdbfff7\")>, <selenium.webdriver.remote.webelement.WebElement (session=\"14329e1397ee8cf27d5a554b15add58f\", element=\"367fd013-335e-4e7a-8b5e-e89153d29380\")>, <selenium.webdriver.remote.webelement.WebElement (session=\"14329e1397ee8cf27d5a554b15add58f\", element=\"2293c24d-c3d4-4f36-a7ae-a16b3080c6e4\")>, <selenium.webdriver.remote.webelement.WebElement (session=\"14329e1397ee8cf27d5a554b15add58f\", element=\"01f5b7d0-3922-40db-ab2c-b304a645a622\")>, <selenium.webdriver.remote.webelement.WebElement (session=\"14329e1397ee8cf27d5a554b15add58f\", element=\"69d9f8ab-4f29-4bf5-b12a-23742c26a378\")>, <selenium.webdriver.remote.webelement.WebElement (session=\"14329e1397ee8cf27d5a554b15add58f\", element=\"d57f6667-18de-4b2f-9da4-14c4670876c0\")>, <selenium.webdriver.remote.webelement.WebElement (session=\"14329e1397ee8cf27d5a554b15add58f\", element=\"b7b6a9f2-2cf5-483d-8b14-0d2ac72f02b5\")>, <selenium.webdriver.remote.webelement.WebElement (session=\"14329e1397ee8cf27d5a554b15add58f\", element=\"3b32ef03-0dee-4f6e-9722-8a0cbc8d9317\")>, <selenium.webdriver.remote.webelement.WebElement (session=\"14329e1397ee8cf27d5a554b15add58f\", element=\"61d60fa1-2ed9-4863-bce6-e38590f411c5\")>, <selenium.webdriver.remote.webelement.WebElement (session=\"14329e1397ee8cf27d5a554b15add58f\", element=\"0acd0457-f5c1-420f-a4ec-6a01130a0849\")>, <selenium.webdriver.remote.webelement.WebElement (session=\"14329e1397ee8cf27d5a554b15add58f\", element=\"8bceb106-afcc-47b7-85ce-4f0ee2dc7ac3\")>, <selenium.webdriver.remote.webelement.WebElement (session=\"14329e1397ee8cf27d5a554b15add58f\", element=\"67457955-1432-4b3c-8612-7dc199b51fc5\")>, <selenium.webdriver.remote.webelement.WebElement (session=\"14329e1397ee8cf27d5a554b15add58f\", element=\"2473edd2-b72f-4e6d-8ae6-ba70b25ab8b7\")>, <selenium.webdriver.remote.webelement.WebElement (session=\"14329e1397ee8cf27d5a554b15add58f\", element=\"bee90763-c7d6-4c08-b904-cb3ec560a567\")>, <selenium.webdriver.remote.webelement.WebElement (session=\"14329e1397ee8cf27d5a554b15add58f\", element=\"5790a4e0-da1f-4a5e-bb26-02e4f4eb475d\")>, <selenium.webdriver.remote.webelement.WebElement (session=\"14329e1397ee8cf27d5a554b15add58f\", element=\"8097b128-febb-47f7-be83-bd2c6ee86271\")>, <selenium.webdriver.remote.webelement.WebElement (session=\"14329e1397ee8cf27d5a554b15add58f\", element=\"89367362-1a55-4190-ba3f-cf0484071d26\")>, <selenium.webdriver.remote.webelement.WebElement (session=\"14329e1397ee8cf27d5a554b15add58f\", element=\"afd8ec2d-0018-41dc-b795-6f279e6258c7\")>, <selenium.webdriver.remote.webelement.WebElement (session=\"14329e1397ee8cf27d5a554b15add58f\", element=\"f02a67e2-99c2-4ad7-87a6-e662775cba59\")>, <selenium.webdriver.remote.webelement.WebElement (session=\"14329e1397ee8cf27d5a554b15add58f\", element=\"951aebea-c5c7-4d7f-a9e9-88f5c9e6c35d\")>, <selenium.webdriver.remote.webelement.WebElement (session=\"14329e1397ee8cf27d5a554b15add58f\", element=\"a01b7078-de6c-43f1-8dad-484fd7ce8ebb\")>, <selenium.webdriver.remote.webelement.WebElement (session=\"14329e1397ee8cf27d5a554b15add58f\", element=\"3d8a3bb6-81ef-4189-b122-01b7ad05eb87\")>, <selenium.webdriver.remote.webelement.WebElement (session=\"14329e1397ee8cf27d5a554b15add58f\", element=\"acf57b5f-76c7-442f-a8c4-24a7fb872b85\")>, <selenium.webdriver.remote.webelement.WebElement (session=\"14329e1397ee8cf27d5a554b15add58f\", element=\"b5124d9b-555e-45f6-b89a-36451f3c0e97\")>, <selenium.webdriver.remote.webelement.WebElement (session=\"14329e1397ee8cf27d5a554b15add58f\", element=\"ef5e1eac-f2ce-4c1f-b3e1-0b2254efa972\")>, <selenium.webdriver.remote.webelement.WebElement (session=\"14329e1397ee8cf27d5a554b15add58f\", element=\"62a8bc20-9793-4661-9805-fa9d95ba1e8e\")>, <selenium.webdriver.remote.webelement.WebElement (session=\"14329e1397ee8cf27d5a554b15add58f\", element=\"f1ccc436-df6e-4a69-8246-7d99271fe3e4\")>, <selenium.webdriver.remote.webelement.WebElement (session=\"14329e1397ee8cf27d5a554b15add58f\", element=\"c16fd8b4-d1da-49c3-9fec-5843f26e3f21\")>, <selenium.webdriver.remote.webelement.WebElement (session=\"14329e1397ee8cf27d5a554b15add58f\", element=\"75572ef6-4013-40c8-a8d0-952381895abd\")>, <selenium.webdriver.remote.webelement.WebElement (session=\"14329e1397ee8cf27d5a554b15add58f\", element=\"19c43751-69fc-4e89-a146-f105ccbd74db\")>, <selenium.webdriver.remote.webelement.WebElement (session=\"14329e1397ee8cf27d5a554b15add58f\", element=\"be60f243-0558-4c9b-a99e-70dcbd52d058\")>, <selenium.webdriver.remote.webelement.WebElement (session=\"14329e1397ee8cf27d5a554b15add58f\", element=\"4d158afa-c4dc-452c-bbbc-8d152914183f\")>, <selenium.webdriver.remote.webelement.WebElement (session=\"14329e1397ee8cf27d5a554b15add58f\", element=\"aba1688d-4b9a-4a95-bd59-2efbdcff208f\")>, <selenium.webdriver.remote.webelement.WebElement (session=\"14329e1397ee8cf27d5a554b15add58f\", element=\"773a6dd3-7729-4700-b360-d6365768b25a\")>, <selenium.webdriver.remote.webelement.WebElement (session=\"14329e1397ee8cf27d5a554b15add58f\", element=\"e013848a-7769-4844-85ee-fd2db6218595\")>, <selenium.webdriver.remote.webelement.WebElement (session=\"14329e1397ee8cf27d5a554b15add58f\", element=\"12ea6786-a360-4d17-8512-f8090a3b79c2\")>, <selenium.webdriver.remote.webelement.WebElement (session=\"14329e1397ee8cf27d5a554b15add58f\", element=\"c40615b5-033d-4439-b4ca-43f0514b4627\")>, <selenium.webdriver.remote.webelement.WebElement (session=\"14329e1397ee8cf27d5a554b15add58f\", element=\"fd26ca6e-2ef8-49dd-a723-049620e509b9\")>, <selenium.webdriver.remote.webelement.WebElement (session=\"14329e1397ee8cf27d5a554b15add58f\", element=\"c79d1abe-641f-4209-84b3-686e13167631\")>, <selenium.webdriver.remote.webelement.WebElement (session=\"14329e1397ee8cf27d5a554b15add58f\", element=\"50086452-d8bd-4266-9648-dca58d5ce62b\")>, <selenium.webdriver.remote.webelement.WebElement (session=\"14329e1397ee8cf27d5a554b15add58f\", element=\"456794e9-7e73-4944-a796-06ef4605cd2c\")>, <selenium.webdriver.remote.webelement.WebElement (session=\"14329e1397ee8cf27d5a554b15add58f\", element=\"75485253-bc55-4f33-a169-c5fa70cc24ba\")>, <selenium.webdriver.remote.webelement.WebElement (session=\"14329e1397ee8cf27d5a554b15add58f\", element=\"a22a5c22-6b35-4db7-8c47-696a27721c8f\")>, <selenium.webdriver.remote.webelement.WebElement (session=\"14329e1397ee8cf27d5a554b15add58f\", element=\"ea4d832e-caac-40e0-8355-2b0947de6fa9\")>, <selenium.webdriver.remote.webelement.WebElement (session=\"14329e1397ee8cf27d5a554b15add58f\", element=\"ee85ebf0-fd9b-4908-9a86-784545f1204e\")>, <selenium.webdriver.remote.webelement.WebElement (session=\"14329e1397ee8cf27d5a554b15add58f\", element=\"c7f880a4-b4b4-4bd5-955c-c3535b173453\")>, <selenium.webdriver.remote.webelement.WebElement (session=\"14329e1397ee8cf27d5a554b15add58f\", element=\"5ca90560-16c7-4ebc-9d02-d88f0114948b\")>, <selenium.webdriver.remote.webelement.WebElement (session=\"14329e1397ee8cf27d5a554b15add58f\", element=\"b381f556-bcd3-4d4d-9422-b264d084c36a\")>, <selenium.webdriver.remote.webelement.WebElement (session=\"14329e1397ee8cf27d5a554b15add58f\", element=\"f66774aa-7fb8-4501-82ce-a4cd5451110c\")>, <selenium.webdriver.remote.webelement.WebElement (session=\"14329e1397ee8cf27d5a554b15add58f\", element=\"1ba04990-9a12-4f11-8ade-8988347ae37a\")>, <selenium.webdriver.remote.webelement.WebElement (session=\"14329e1397ee8cf27d5a554b15add58f\", element=\"d5bbe695-a612-4f57-8ac2-7755c1c911f7\")>, <selenium.webdriver.remote.webelement.WebElement (session=\"14329e1397ee8cf27d5a554b15add58f\", element=\"81ac0869-8967-4300-8b65-1e3deb61e8b7\")>, <selenium.webdriver.remote.webelement.WebElement (session=\"14329e1397ee8cf27d5a554b15add58f\", element=\"9f475325-fd1a-4a9a-9f11-82c80335cf31\")>, <selenium.webdriver.remote.webelement.WebElement (session=\"14329e1397ee8cf27d5a554b15add58f\", element=\"c511fd6d-a926-4e2b-bd43-d54c2660da4e\")>, <selenium.webdriver.remote.webelement.WebElement (session=\"14329e1397ee8cf27d5a554b15add58f\", element=\"e1fb11fe-fd27-440f-8c2b-6ca118f4dd51\")>, <selenium.webdriver.remote.webelement.WebElement (session=\"14329e1397ee8cf27d5a554b15add58f\", element=\"3ac78648-0c3b-4cbe-83a1-33536f048216\")>, <selenium.webdriver.remote.webelement.WebElement (session=\"14329e1397ee8cf27d5a554b15add58f\", element=\"a14dd721-a719-44f8-aba2-3f715ab32717\")>, <selenium.webdriver.remote.webelement.WebElement (session=\"14329e1397ee8cf27d5a554b15add58f\", element=\"ea9c0e57-34c7-4242-babe-507f818c4475\")>, <selenium.webdriver.remote.webelement.WebElement (session=\"14329e1397ee8cf27d5a554b15add58f\", element=\"724d66e9-2fc0-4bf3-b5bf-5628e46b2fcd\")>, <selenium.webdriver.remote.webelement.WebElement (session=\"14329e1397ee8cf27d5a554b15add58f\", element=\"18d13304-9367-4048-b0e9-28c5317d63ba\")>, <selenium.webdriver.remote.webelement.WebElement (session=\"14329e1397ee8cf27d5a554b15add58f\", element=\"4a243c44-f16a-4247-826c-afaab0d7a8bf\")>, <selenium.webdriver.remote.webelement.WebElement (session=\"14329e1397ee8cf27d5a554b15add58f\", element=\"47fee71a-e4e5-49f2-b5e9-5ee0af4f3fca\")>, <selenium.webdriver.remote.webelement.WebElement (session=\"14329e1397ee8cf27d5a554b15add58f\", element=\"9b4cab38-1353-44b2-a398-7bfd076be05a\")>, <selenium.webdriver.remote.webelement.WebElement (session=\"14329e1397ee8cf27d5a554b15add58f\", element=\"cab16b5c-a934-4f7a-a349-f345f6e4ee74\")>, <selenium.webdriver.remote.webelement.WebElement (session=\"14329e1397ee8cf27d5a554b15add58f\", element=\"6e7c1aa1-3335-40ee-bc78-97c9f3bd7bc8\")>, <selenium.webdriver.remote.webelement.WebElement (session=\"14329e1397ee8cf27d5a554b15add58f\", element=\"fb809c9b-c91b-48bf-beb0-a71d5db7f1a0\")>, <selenium.webdriver.remote.webelement.WebElement (session=\"14329e1397ee8cf27d5a554b15add58f\", element=\"b6f62f1e-0dd7-465a-acd6-f5f3034c4538\")>, <selenium.webdriver.remote.webelement.WebElement (session=\"14329e1397ee8cf27d5a554b15add58f\", element=\"ac98bd8f-5bb1-427b-86e6-c8aea205d113\")>, <selenium.webdriver.remote.webelement.WebElement (session=\"14329e1397ee8cf27d5a554b15add58f\", element=\"4398ea08-79c1-4d90-8d90-0f812034d6db\")>, <selenium.webdriver.remote.webelement.WebElement (session=\"14329e1397ee8cf27d5a554b15add58f\", element=\"ca9de1a6-4944-484d-b48d-e797de4512f3\")>, <selenium.webdriver.remote.webelement.WebElement (session=\"14329e1397ee8cf27d5a554b15add58f\", element=\"55dbd4b0-918c-4105-811b-eb90baaa2377\")>, <selenium.webdriver.remote.webelement.WebElement (session=\"14329e1397ee8cf27d5a554b15add58f\", element=\"4b66ae3d-9a3e-4117-856c-5c066a187f68\")>, <selenium.webdriver.remote.webelement.WebElement (session=\"14329e1397ee8cf27d5a554b15add58f\", element=\"198675f1-83a7-429d-a13c-8609a7645c3c\")>, <selenium.webdriver.remote.webelement.WebElement (session=\"14329e1397ee8cf27d5a554b15add58f\", element=\"1f969262-db6f-4b8c-826d-5103571455e2\")>, <selenium.webdriver.remote.webelement.WebElement (session=\"14329e1397ee8cf27d5a554b15add58f\", element=\"3d3e839e-6340-4b79-b1cb-a89cb5c343a3\")>, <selenium.webdriver.remote.webelement.WebElement (session=\"14329e1397ee8cf27d5a554b15add58f\", element=\"a6adb8a9-b14e-4c82-bd4e-aed249956b95\")>, <selenium.webdriver.remote.webelement.WebElement (session=\"14329e1397ee8cf27d5a554b15add58f\", element=\"659cca2e-71ae-493e-b344-405ad321ce19\")>, <selenium.webdriver.remote.webelement.WebElement (session=\"14329e1397ee8cf27d5a554b15add58f\", element=\"0b6bd681-2134-4851-ae3a-7ccf88364cf4\")>, <selenium.webdriver.remote.webelement.WebElement (session=\"14329e1397ee8cf27d5a554b15add58f\", element=\"50137776-8e48-4ea8-95ba-11201cacfa36\")>, <selenium.webdriver.remote.webelement.WebElement (session=\"14329e1397ee8cf27d5a554b15add58f\", element=\"65da98a2-cf87-4dcb-bb00-a035f5c8f078\")>, <selenium.webdriver.remote.webelement.WebElement (session=\"14329e1397ee8cf27d5a554b15add58f\", element=\"6da82be4-e358-4394-b5d9-aaaab634ffc0\")>, <selenium.webdriver.remote.webelement.WebElement (session=\"14329e1397ee8cf27d5a554b15add58f\", element=\"51764477-0928-4f58-a0a1-ae7cd047690d\")>, <selenium.webdriver.remote.webelement.WebElement (session=\"14329e1397ee8cf27d5a554b15add58f\", element=\"36d87cdf-4815-4c2b-bd4d-16a19aacab56\")>, <selenium.webdriver.remote.webelement.WebElement (session=\"14329e1397ee8cf27d5a554b15add58f\", element=\"39508c1d-51a2-464c-9a5a-0449b6570880\")>, <selenium.webdriver.remote.webelement.WebElement (session=\"14329e1397ee8cf27d5a554b15add58f\", element=\"d79b1565-8090-4010-85a6-84528de8698d\")>, <selenium.webdriver.remote.webelement.WebElement (session=\"14329e1397ee8cf27d5a554b15add58f\", element=\"0e447bb0-7781-40af-923f-77c40fbab4b5\")>, <selenium.webdriver.remote.webelement.WebElement (session=\"14329e1397ee8cf27d5a554b15add58f\", element=\"d7bb9cc3-26f7-40a8-9a41-dfe5a6baa389\")>, <selenium.webdriver.remote.webelement.WebElement (session=\"14329e1397ee8cf27d5a554b15add58f\", element=\"5ca9e4e7-d3ff-4b40-b439-db7e7f535a39\")>, <selenium.webdriver.remote.webelement.WebElement (session=\"14329e1397ee8cf27d5a554b15add58f\", element=\"15d8b1c8-001a-42ad-abcb-1be19fa6e955\")>, <selenium.webdriver.remote.webelement.WebElement (session=\"14329e1397ee8cf27d5a554b15add58f\", element=\"84b05894-058b-405d-8223-b07ed5fa184a\")>, <selenium.webdriver.remote.webelement.WebElement (session=\"14329e1397ee8cf27d5a554b15add58f\", element=\"9f0a38d9-6245-48b6-ad71-e94cc9c028bd\")>, <selenium.webdriver.remote.webelement.WebElement (session=\"14329e1397ee8cf27d5a554b15add58f\", element=\"0999c727-120a-4cb8-8c93-27048e3d77f3\")>, <selenium.webdriver.remote.webelement.WebElement (session=\"14329e1397ee8cf27d5a554b15add58f\", element=\"ee524d40-9aa8-4a5a-8363-c9e1e70e9c14\")>, <selenium.webdriver.remote.webelement.WebElement (session=\"14329e1397ee8cf27d5a554b15add58f\", element=\"a1e36732-4709-4157-a4dc-a9043336ef57\")>, <selenium.webdriver.remote.webelement.WebElement (session=\"14329e1397ee8cf27d5a554b15add58f\", element=\"7b7b7d8b-ad3a-4891-a3a9-10eb912bde08\")>, <selenium.webdriver.remote.webelement.WebElement (session=\"14329e1397ee8cf27d5a554b15add58f\", element=\"d4e83afe-4783-41e8-981a-7d811443f8d2\")>, <selenium.webdriver.remote.webelement.WebElement (session=\"14329e1397ee8cf27d5a554b15add58f\", element=\"deb9245f-9482-4aa2-9531-313a82bc9b84\")>, <selenium.webdriver.remote.webelement.WebElement (session=\"14329e1397ee8cf27d5a554b15add58f\", element=\"109a54a5-251e-4bd1-a491-7952265a1fc9\")>, <selenium.webdriver.remote.webelement.WebElement (session=\"14329e1397ee8cf27d5a554b15add58f\", element=\"ba584ebf-95ea-476a-8b7b-c8d8c0486128\")>, <selenium.webdriver.remote.webelement.WebElement (session=\"14329e1397ee8cf27d5a554b15add58f\", element=\"01a8d539-bee5-4fe4-ad43-64ebb6e53a0c\")>, <selenium.webdriver.remote.webelement.WebElement (session=\"14329e1397ee8cf27d5a554b15add58f\", element=\"c7e46aea-7c49-4f3c-8992-70f32a1157da\")>, <selenium.webdriver.remote.webelement.WebElement (session=\"14329e1397ee8cf27d5a554b15add58f\", element=\"12d6d7c5-0d35-436a-89ff-48aa4214c442\")>, <selenium.webdriver.remote.webelement.WebElement (session=\"14329e1397ee8cf27d5a554b15add58f\", element=\"407695ba-e307-4cdf-8bbb-12fbd8dac151\")>, <selenium.webdriver.remote.webelement.WebElement (session=\"14329e1397ee8cf27d5a554b15add58f\", element=\"f949c078-a307-4692-ab73-423af5b42f1e\")>, <selenium.webdriver.remote.webelement.WebElement (session=\"14329e1397ee8cf27d5a554b15add58f\", element=\"35c6f16e-9169-40ee-94f7-e0beb9cc8e74\")>, <selenium.webdriver.remote.webelement.WebElement (session=\"14329e1397ee8cf27d5a554b15add58f\", element=\"d9d86c9f-6652-48c6-a9c1-37a9c2a1efdb\")>]\n"
     ]
    }
   ],
   "source": [
    "# obtengo elementos que forman parte de una tabla, en concreto serán los datos en si posteriormente.Son WebElement\n",
    "labelsdat = datoscultivo.find_elements_by_xpath(\"//td\")\n",
    "print(len(labelsdat))\n",
    "print(labelsdat)"
   ]
  },
  {
   "cell_type": "code",
   "execution_count": 26,
   "metadata": {},
   "outputs": [
    {
     "name": "stdout",
     "output_type": "stream",
     "text": [
      "['', '', '', 'AGRARIO', '', '', '', '40', '', '', 'OCIO HOSTEL.', '00', '01', '', '328', '', '', 'OCIO HOSTEL.', '', '00', '02', '360', '', '', 'OCIO HOSTEL.', '', '00', '03', '265', '', '', 'VIVIENDA', '', '00', '01', '309', '', '', 'ALMACEN', '', '00', '01', '117', '', '', 'ALMACEN', '', '00', '02', '162', '', '', 'COMERCIO', '', '00', '01', '1.107', '', '', 'COMERCIO', '', '00', '02', '323', '', '', 'VIVIENDA', '', '00', '03', '174', '', '', 'VIVIENDA', '', '00', '01', '303', '', '', 'VIVIENDA', '', '00', '01', '50', '', '', 'ALMACEN', '', '00', '03', '38', '', '', 'ALMACEN', '', '00', '04', '90', '', '', 'ALMACEN', '', '00', '05', '38', '', '', 'a', 'MM PINAR MADERABLE', '09', '1.276.981', 'b', 'I- IMPRODUCTIVO', '00', '72.292.542', 'c', 'VT VÍA DE COMUNICACIÓN DE DOMINIO PÚBLICO', '00', '904', 'd', 'VT VÍA DE COMUNICACIÓN DE DOMINIO PÚBLICO', '00', '2.302', 'e', 'VT VÍA DE COMUNICACIÓN DE DOMINIO PÚBLICO', '00', '9.449', 'f', 'VT VÍA DE COMUNICACIÓN DE DOMINIO PÚBLICO', '00', '3.034', 'g', 'I- IMPRODUCTIVO', '00', '174', 'h', 'VT VÍA DE COMUNICACIÓN DE DOMINIO PÚBLICO', '00', '31.339', 'i', 'I- IMPRODUCTIVO', '00', '581', 'j', 'I- IMPRODUCTIVO', '00', '1.995', 'k', 'VT VÍA DE COMUNICACIÓN DE DOMINIO PÚBLICO', '00', '7.642']\n"
     ]
    }
   ],
   "source": [
    "# se recorre lista y se imprime para comprobar\n",
    "countdat = 0\n",
    "lista_dat = list()\n",
    "\n",
    "for i in labelsdat:\n",
    "    if countdat < 152:\n",
    "        lista_dat.append(i.text)\n",
    "    else:\n",
    "        break\n",
    "    countdat +=1\n",
    "print(lista_dat)\n"
   ]
  },
  {
   "cell_type": "code",
   "execution_count": 27,
   "metadata": {},
   "outputs": [
    {
     "data": {
      "text/html": [
       "<div>\n",
       "<style scoped>\n",
       "    .dataframe tbody tr th:only-of-type {\n",
       "        vertical-align: middle;\n",
       "    }\n",
       "\n",
       "    .dataframe tbody tr th {\n",
       "        vertical-align: top;\n",
       "    }\n",
       "\n",
       "    .dataframe thead th {\n",
       "        text-align: right;\n",
       "    }\n",
       "</style>\n",
       "<table border=\"1\" class=\"dataframe\">\n",
       "  <thead>\n",
       "    <tr style=\"text-align: right;\">\n",
       "      <th></th>\n",
       "      <th>Uso principal</th>\n",
       "      <th>Escalera</th>\n",
       "      <th>Planta</th>\n",
       "      <th>Puerta</th>\n",
       "      <th>Superficie m2</th>\n",
       "      <th>Tipo Reforma</th>\n",
       "      <th>Fecha Reforma</th>\n",
       "    </tr>\n",
       "  </thead>\n",
       "  <tbody>\n",
       "    <tr>\n",
       "      <th>1</th>\n",
       "      <td>AGRARIO</td>\n",
       "      <td></td>\n",
       "      <td></td>\n",
       "      <td></td>\n",
       "      <td>40</td>\n",
       "      <td></td>\n",
       "      <td></td>\n",
       "    </tr>\n",
       "    <tr>\n",
       "      <th>2</th>\n",
       "      <td>OCIO HOSTEL.</td>\n",
       "      <td>00</td>\n",
       "      <td>01</td>\n",
       "      <td></td>\n",
       "      <td>328</td>\n",
       "      <td></td>\n",
       "      <td></td>\n",
       "    </tr>\n",
       "    <tr>\n",
       "      <th>3</th>\n",
       "      <td>OCIO HOSTEL.</td>\n",
       "      <td></td>\n",
       "      <td>00</td>\n",
       "      <td>02</td>\n",
       "      <td>360</td>\n",
       "      <td></td>\n",
       "      <td></td>\n",
       "    </tr>\n",
       "    <tr>\n",
       "      <th>4</th>\n",
       "      <td>OCIO HOSTEL.</td>\n",
       "      <td></td>\n",
       "      <td>00</td>\n",
       "      <td>03</td>\n",
       "      <td>265</td>\n",
       "      <td></td>\n",
       "      <td></td>\n",
       "    </tr>\n",
       "    <tr>\n",
       "      <th>5</th>\n",
       "      <td>VIVIENDA</td>\n",
       "      <td></td>\n",
       "      <td>00</td>\n",
       "      <td>01</td>\n",
       "      <td>309</td>\n",
       "      <td></td>\n",
       "      <td></td>\n",
       "    </tr>\n",
       "    <tr>\n",
       "      <th>6</th>\n",
       "      <td>ALMACEN</td>\n",
       "      <td></td>\n",
       "      <td>00</td>\n",
       "      <td>01</td>\n",
       "      <td>117</td>\n",
       "      <td></td>\n",
       "      <td></td>\n",
       "    </tr>\n",
       "    <tr>\n",
       "      <th>7</th>\n",
       "      <td>ALMACEN</td>\n",
       "      <td></td>\n",
       "      <td>00</td>\n",
       "      <td>02</td>\n",
       "      <td>162</td>\n",
       "      <td></td>\n",
       "      <td></td>\n",
       "    </tr>\n",
       "    <tr>\n",
       "      <th>8</th>\n",
       "      <td>COMERCIO</td>\n",
       "      <td></td>\n",
       "      <td>00</td>\n",
       "      <td>01</td>\n",
       "      <td>1.107</td>\n",
       "      <td></td>\n",
       "      <td></td>\n",
       "    </tr>\n",
       "    <tr>\n",
       "      <th>9</th>\n",
       "      <td>COMERCIO</td>\n",
       "      <td></td>\n",
       "      <td>00</td>\n",
       "      <td>02</td>\n",
       "      <td>323</td>\n",
       "      <td></td>\n",
       "      <td></td>\n",
       "    </tr>\n",
       "    <tr>\n",
       "      <th>10</th>\n",
       "      <td>VIVIENDA</td>\n",
       "      <td></td>\n",
       "      <td>00</td>\n",
       "      <td>03</td>\n",
       "      <td>174</td>\n",
       "      <td></td>\n",
       "      <td></td>\n",
       "    </tr>\n",
       "    <tr>\n",
       "      <th>11</th>\n",
       "      <td>VIVIENDA</td>\n",
       "      <td></td>\n",
       "      <td>00</td>\n",
       "      <td>01</td>\n",
       "      <td>303</td>\n",
       "      <td></td>\n",
       "      <td></td>\n",
       "    </tr>\n",
       "    <tr>\n",
       "      <th>12</th>\n",
       "      <td>VIVIENDA</td>\n",
       "      <td></td>\n",
       "      <td>00</td>\n",
       "      <td>01</td>\n",
       "      <td>50</td>\n",
       "      <td></td>\n",
       "      <td></td>\n",
       "    </tr>\n",
       "    <tr>\n",
       "      <th>13</th>\n",
       "      <td>ALMACEN</td>\n",
       "      <td></td>\n",
       "      <td>00</td>\n",
       "      <td>03</td>\n",
       "      <td>38</td>\n",
       "      <td></td>\n",
       "      <td></td>\n",
       "    </tr>\n",
       "    <tr>\n",
       "      <th>14</th>\n",
       "      <td>ALMACEN</td>\n",
       "      <td></td>\n",
       "      <td>00</td>\n",
       "      <td>04</td>\n",
       "      <td>90</td>\n",
       "      <td></td>\n",
       "      <td></td>\n",
       "    </tr>\n",
       "    <tr>\n",
       "      <th>15</th>\n",
       "      <td>ALMACEN</td>\n",
       "      <td></td>\n",
       "      <td>00</td>\n",
       "      <td>05</td>\n",
       "      <td>38</td>\n",
       "      <td></td>\n",
       "      <td></td>\n",
       "    </tr>\n",
       "  </tbody>\n",
       "</table>\n",
       "</div>"
      ],
      "text/plain": [
       "   Uso principal Escalera Planta Puerta Superficie m2 Tipo Reforma  \\\n",
       "1        AGRARIO                                   40                \n",
       "2   OCIO HOSTEL.       00     01                  328                \n",
       "3   OCIO HOSTEL.              00     02           360                \n",
       "4   OCIO HOSTEL.              00     03           265                \n",
       "5       VIVIENDA              00     01           309                \n",
       "6        ALMACEN              00     01           117                \n",
       "7        ALMACEN              00     02           162                \n",
       "8       COMERCIO              00     01         1.107                \n",
       "9       COMERCIO              00     02           323                \n",
       "10      VIVIENDA              00     03           174                \n",
       "11      VIVIENDA              00     01           303                \n",
       "12      VIVIENDA              00     01            50                \n",
       "13       ALMACEN              00     03            38                \n",
       "14       ALMACEN              00     04            90                \n",
       "15       ALMACEN              00     05            38                \n",
       "\n",
       "   Fecha Reforma  \n",
       "1                 \n",
       "2                 \n",
       "3                 \n",
       "4                 \n",
       "5                 \n",
       "6                 \n",
       "7                 \n",
       "8                 \n",
       "9                 \n",
       "10                \n",
       "11                \n",
       "12                \n",
       "13                \n",
       "14                \n",
       "15                "
      ]
     },
     "execution_count": 27,
     "metadata": {},
     "output_type": "execute_result"
    }
   ],
   "source": [
    "# se pasa a un DataFrame la primera tabla , parte Construccion de la pagina \n",
    "tablaConstr = pd.DataFrame( data = [(lista_dat[3],lista_dat[4],lista_dat[5],lista_dat[6],lista_dat[7],lista_dat[8],lista_dat[9]),\n",
    "                                 (lista_dat[10],lista_dat[11],lista_dat[12],lista_dat[13],lista_dat[14],lista_dat[15],lista_dat[16]),\n",
    "                                 (lista_dat[17],lista_dat[18],lista_dat[19],lista_dat[20],lista_dat[21],lista_dat[22],lista_dat[23]),\n",
    "                                 (lista_dat[24],lista_dat[25],lista_dat[26],lista_dat[27],lista_dat[28],lista_dat[29],lista_dat[30]),\n",
    "                                 (lista_dat[31],lista_dat[32],lista_dat[33],lista_dat[34],lista_dat[35],lista_dat[36],lista_dat[37]),\n",
    "                                 (lista_dat[38],lista_dat[39],lista_dat[40],lista_dat[41],lista_dat[42],lista_dat[43],lista_dat[44]),\n",
    "                                 (lista_dat[45],lista_dat[46],lista_dat[47],lista_dat[48],lista_dat[49],lista_dat[50],lista_dat[51]), \n",
    "                                 (lista_dat[52],lista_dat[53],lista_dat[54],lista_dat[55],lista_dat[56],lista_dat[57],lista_dat[58]),\n",
    "                                 (lista_dat[59],lista_dat[60],lista_dat[61],lista_dat[62],lista_dat[63],lista_dat[64],lista_dat[65]),\n",
    "                                 (lista_dat[66],lista_dat[67],lista_dat[68],lista_dat[69],lista_dat[70],lista_dat[71],lista_dat[72]),\n",
    "                                 (lista_dat[73],lista_dat[74],lista_dat[75],lista_dat[76],lista_dat[77],lista_dat[78],lista_dat[79]),\n",
    "                                 (lista_dat[80],lista_dat[81],lista_dat[82],lista_dat[83],lista_dat[84],lista_dat[85],lista_dat[86]),\n",
    "                                 (lista_dat[87],lista_dat[88],lista_dat[89],lista_dat[90],lista_dat[91],lista_dat[92],lista_dat[93]),\n",
    "                                 (lista_dat[94],lista_dat[95],lista_dat[96],lista_dat[97],lista_dat[98],lista_dat[99],lista_dat[100]),\n",
    "                                 (lista_dat[101],lista_dat[102],lista_dat[103],lista_dat[104],lista_dat[105],lista_dat[106],lista_dat[107]),\n",
    "                               ],\n",
    "                        columns = (lista_p[0],lista_p[1],lista_p[2],lista_p[3],lista_p[4],lista_p[5],lista_p[6]),\n",
    "                        index = ['1','2','3','4','5','6','7','8','9','10','11','12','13','14','15'])\n",
    "tablaConstr"
   ]
  },
  {
   "cell_type": "code",
   "execution_count": 28,
   "metadata": {},
   "outputs": [
    {
     "data": {
      "text/html": [
       "<div>\n",
       "<style scoped>\n",
       "    .dataframe tbody tr th:only-of-type {\n",
       "        vertical-align: middle;\n",
       "    }\n",
       "\n",
       "    .dataframe tbody tr th {\n",
       "        vertical-align: top;\n",
       "    }\n",
       "\n",
       "    .dataframe thead th {\n",
       "        text-align: right;\n",
       "    }\n",
       "</style>\n",
       "<table border=\"1\" class=\"dataframe\">\n",
       "  <thead>\n",
       "    <tr style=\"text-align: right;\">\n",
       "      <th></th>\n",
       "      <th>Subparcela</th>\n",
       "      <th>Cultivo/Aprovechamiento</th>\n",
       "      <th>Intensidad Productiva</th>\n",
       "      <th>Superficie m2</th>\n",
       "    </tr>\n",
       "  </thead>\n",
       "  <tbody>\n",
       "    <tr>\n",
       "      <th>1</th>\n",
       "      <td>a</td>\n",
       "      <td>MM PINAR MADERABLE</td>\n",
       "      <td>09</td>\n",
       "      <td>1.276.981</td>\n",
       "    </tr>\n",
       "    <tr>\n",
       "      <th>2</th>\n",
       "      <td>b</td>\n",
       "      <td>I- IMPRODUCTIVO</td>\n",
       "      <td>00</td>\n",
       "      <td>72.292.542</td>\n",
       "    </tr>\n",
       "    <tr>\n",
       "      <th>3</th>\n",
       "      <td>c</td>\n",
       "      <td>VT VÍA DE COMUNICACIÓN DE DOMINIO PÚBLICO</td>\n",
       "      <td>00</td>\n",
       "      <td>904</td>\n",
       "    </tr>\n",
       "    <tr>\n",
       "      <th>4</th>\n",
       "      <td>d</td>\n",
       "      <td>VT VÍA DE COMUNICACIÓN DE DOMINIO PÚBLICO</td>\n",
       "      <td>00</td>\n",
       "      <td>2.302</td>\n",
       "    </tr>\n",
       "    <tr>\n",
       "      <th>5</th>\n",
       "      <td>e</td>\n",
       "      <td>VT VÍA DE COMUNICACIÓN DE DOMINIO PÚBLICO</td>\n",
       "      <td>00</td>\n",
       "      <td>9.449</td>\n",
       "    </tr>\n",
       "    <tr>\n",
       "      <th>6</th>\n",
       "      <td>f</td>\n",
       "      <td>VT VÍA DE COMUNICACIÓN DE DOMINIO PÚBLICO</td>\n",
       "      <td>00</td>\n",
       "      <td>3.034</td>\n",
       "    </tr>\n",
       "    <tr>\n",
       "      <th>7</th>\n",
       "      <td>g</td>\n",
       "      <td>I- IMPRODUCTIVO</td>\n",
       "      <td>00</td>\n",
       "      <td>174</td>\n",
       "    </tr>\n",
       "    <tr>\n",
       "      <th>8</th>\n",
       "      <td>h</td>\n",
       "      <td>VT VÍA DE COMUNICACIÓN DE DOMINIO PÚBLICO</td>\n",
       "      <td>00</td>\n",
       "      <td>31.339</td>\n",
       "    </tr>\n",
       "    <tr>\n",
       "      <th>9</th>\n",
       "      <td>i</td>\n",
       "      <td>I- IMPRODUCTIVO</td>\n",
       "      <td>00</td>\n",
       "      <td>581</td>\n",
       "    </tr>\n",
       "    <tr>\n",
       "      <th>10</th>\n",
       "      <td>j</td>\n",
       "      <td>I- IMPRODUCTIVO</td>\n",
       "      <td>00</td>\n",
       "      <td>1.995</td>\n",
       "    </tr>\n",
       "    <tr>\n",
       "      <th>11</th>\n",
       "      <td>k</td>\n",
       "      <td>VT VÍA DE COMUNICACIÓN DE DOMINIO PÚBLICO</td>\n",
       "      <td>00</td>\n",
       "      <td>7.642</td>\n",
       "    </tr>\n",
       "  </tbody>\n",
       "</table>\n",
       "</div>"
      ],
      "text/plain": [
       "   Subparcela                    Cultivo/Aprovechamiento  \\\n",
       "1           a                         MM PINAR MADERABLE   \n",
       "2           b                            I- IMPRODUCTIVO   \n",
       "3           c  VT VÍA DE COMUNICACIÓN DE DOMINIO PÚBLICO   \n",
       "4           d  VT VÍA DE COMUNICACIÓN DE DOMINIO PÚBLICO   \n",
       "5           e  VT VÍA DE COMUNICACIÓN DE DOMINIO PÚBLICO   \n",
       "6           f  VT VÍA DE COMUNICACIÓN DE DOMINIO PÚBLICO   \n",
       "7           g                            I- IMPRODUCTIVO   \n",
       "8           h  VT VÍA DE COMUNICACIÓN DE DOMINIO PÚBLICO   \n",
       "9           i                            I- IMPRODUCTIVO   \n",
       "10          j                            I- IMPRODUCTIVO   \n",
       "11          k  VT VÍA DE COMUNICACIÓN DE DOMINIO PÚBLICO   \n",
       "\n",
       "   Intensidad Productiva Superficie m2  \n",
       "1                     09     1.276.981  \n",
       "2                     00    72.292.542  \n",
       "3                     00           904  \n",
       "4                     00         2.302  \n",
       "5                     00         9.449  \n",
       "6                     00         3.034  \n",
       "7                     00           174  \n",
       "8                     00        31.339  \n",
       "9                     00           581  \n",
       "10                    00         1.995  \n",
       "11                    00         7.642  "
      ]
     },
     "execution_count": 28,
     "metadata": {},
     "output_type": "execute_result"
    }
   ],
   "source": [
    "# se pasa a un DataFrame la segunda tabla, parte Cultivo de la pagina \n",
    "tablaCult = pd.DataFrame( data = [(lista_dat[108],lista_dat[109],lista_dat[110],lista_dat[111]),\n",
    "                                  (lista_dat[112],lista_dat[113],lista_dat[114],lista_dat[115]),\n",
    "                                  (lista_dat[116],lista_dat[117],lista_dat[118],lista_dat[119]),\n",
    "                                  (lista_dat[120],lista_dat[121],lista_dat[122],lista_dat[123]),\n",
    "                                  (lista_dat[124],lista_dat[125],lista_dat[126],lista_dat[127]),\n",
    "                                  (lista_dat[128],lista_dat[129],lista_dat[130],lista_dat[131]),\n",
    "                                  (lista_dat[132],lista_dat[133],lista_dat[134],lista_dat[135]), \n",
    "                                  (lista_dat[136],lista_dat[137],lista_dat[138],lista_dat[139]),\n",
    "                                  (lista_dat[140],lista_dat[141],lista_dat[142],lista_dat[143]),\n",
    "                                  (lista_dat[144],lista_dat[145],lista_dat[146],lista_dat[147]),\n",
    "                                  (lista_dat[148],lista_dat[149],lista_dat[150],lista_dat[151]),        \n",
    "                               ],\n",
    "                        columns = (lista_p[7],lista_p[8],lista_p[9],lista_p[10]),\n",
    "                        index = ['1','2','3','4','5','6','7','8','9','10','11'])\n",
    "tablaCult"
   ]
  },
  {
   "cell_type": "code",
   "execution_count": 29,
   "metadata": {},
   "outputs": [
    {
     "data": {
      "text/html": [
       "<div>\n",
       "<style scoped>\n",
       "    .dataframe tbody tr th:only-of-type {\n",
       "        vertical-align: middle;\n",
       "    }\n",
       "\n",
       "    .dataframe tbody tr th {\n",
       "        vertical-align: top;\n",
       "    }\n",
       "\n",
       "    .dataframe thead th {\n",
       "        text-align: right;\n",
       "    }\n",
       "</style>\n",
       "<table border=\"1\" class=\"dataframe\">\n",
       "  <thead>\n",
       "    <tr style=\"text-align: right;\">\n",
       "      <th></th>\n",
       "      <th>Uso principal</th>\n",
       "      <th>Escalera</th>\n",
       "      <th>Planta</th>\n",
       "      <th>Puerta</th>\n",
       "      <th>Superficie m2</th>\n",
       "      <th>Tipo Reforma</th>\n",
       "      <th>Fecha Reforma</th>\n",
       "      <th>Subparcela</th>\n",
       "      <th>Cultivo/Aprovechamiento</th>\n",
       "      <th>Intensidad Productiva</th>\n",
       "      <th>Superficie m2</th>\n",
       "    </tr>\n",
       "  </thead>\n",
       "  <tbody>\n",
       "    <tr>\n",
       "      <th>1</th>\n",
       "      <td>AGRARIO</td>\n",
       "      <td></td>\n",
       "      <td></td>\n",
       "      <td></td>\n",
       "      <td>40</td>\n",
       "      <td></td>\n",
       "      <td></td>\n",
       "      <td>a</td>\n",
       "      <td>MM PINAR MADERABLE</td>\n",
       "      <td>09</td>\n",
       "      <td>1.276.981</td>\n",
       "    </tr>\n",
       "    <tr>\n",
       "      <th>2</th>\n",
       "      <td>OCIO HOSTEL.</td>\n",
       "      <td>00</td>\n",
       "      <td>01</td>\n",
       "      <td></td>\n",
       "      <td>328</td>\n",
       "      <td></td>\n",
       "      <td></td>\n",
       "      <td>b</td>\n",
       "      <td>I- IMPRODUCTIVO</td>\n",
       "      <td>00</td>\n",
       "      <td>72.292.542</td>\n",
       "    </tr>\n",
       "    <tr>\n",
       "      <th>3</th>\n",
       "      <td>OCIO HOSTEL.</td>\n",
       "      <td></td>\n",
       "      <td>00</td>\n",
       "      <td>02</td>\n",
       "      <td>360</td>\n",
       "      <td></td>\n",
       "      <td></td>\n",
       "      <td>c</td>\n",
       "      <td>VT VÍA DE COMUNICACIÓN DE DOMINIO PÚBLICO</td>\n",
       "      <td>00</td>\n",
       "      <td>904</td>\n",
       "    </tr>\n",
       "    <tr>\n",
       "      <th>4</th>\n",
       "      <td>OCIO HOSTEL.</td>\n",
       "      <td></td>\n",
       "      <td>00</td>\n",
       "      <td>03</td>\n",
       "      <td>265</td>\n",
       "      <td></td>\n",
       "      <td></td>\n",
       "      <td>d</td>\n",
       "      <td>VT VÍA DE COMUNICACIÓN DE DOMINIO PÚBLICO</td>\n",
       "      <td>00</td>\n",
       "      <td>2.302</td>\n",
       "    </tr>\n",
       "    <tr>\n",
       "      <th>5</th>\n",
       "      <td>VIVIENDA</td>\n",
       "      <td></td>\n",
       "      <td>00</td>\n",
       "      <td>01</td>\n",
       "      <td>309</td>\n",
       "      <td></td>\n",
       "      <td></td>\n",
       "      <td>e</td>\n",
       "      <td>VT VÍA DE COMUNICACIÓN DE DOMINIO PÚBLICO</td>\n",
       "      <td>00</td>\n",
       "      <td>9.449</td>\n",
       "    </tr>\n",
       "    <tr>\n",
       "      <th>6</th>\n",
       "      <td>ALMACEN</td>\n",
       "      <td></td>\n",
       "      <td>00</td>\n",
       "      <td>01</td>\n",
       "      <td>117</td>\n",
       "      <td></td>\n",
       "      <td></td>\n",
       "      <td>f</td>\n",
       "      <td>VT VÍA DE COMUNICACIÓN DE DOMINIO PÚBLICO</td>\n",
       "      <td>00</td>\n",
       "      <td>3.034</td>\n",
       "    </tr>\n",
       "    <tr>\n",
       "      <th>7</th>\n",
       "      <td>ALMACEN</td>\n",
       "      <td></td>\n",
       "      <td>00</td>\n",
       "      <td>02</td>\n",
       "      <td>162</td>\n",
       "      <td></td>\n",
       "      <td></td>\n",
       "      <td>g</td>\n",
       "      <td>I- IMPRODUCTIVO</td>\n",
       "      <td>00</td>\n",
       "      <td>174</td>\n",
       "    </tr>\n",
       "    <tr>\n",
       "      <th>8</th>\n",
       "      <td>COMERCIO</td>\n",
       "      <td></td>\n",
       "      <td>00</td>\n",
       "      <td>01</td>\n",
       "      <td>1.107</td>\n",
       "      <td></td>\n",
       "      <td></td>\n",
       "      <td>h</td>\n",
       "      <td>VT VÍA DE COMUNICACIÓN DE DOMINIO PÚBLICO</td>\n",
       "      <td>00</td>\n",
       "      <td>31.339</td>\n",
       "    </tr>\n",
       "    <tr>\n",
       "      <th>9</th>\n",
       "      <td>COMERCIO</td>\n",
       "      <td></td>\n",
       "      <td>00</td>\n",
       "      <td>02</td>\n",
       "      <td>323</td>\n",
       "      <td></td>\n",
       "      <td></td>\n",
       "      <td>i</td>\n",
       "      <td>I- IMPRODUCTIVO</td>\n",
       "      <td>00</td>\n",
       "      <td>581</td>\n",
       "    </tr>\n",
       "    <tr>\n",
       "      <th>10</th>\n",
       "      <td>VIVIENDA</td>\n",
       "      <td></td>\n",
       "      <td>00</td>\n",
       "      <td>03</td>\n",
       "      <td>174</td>\n",
       "      <td></td>\n",
       "      <td></td>\n",
       "      <td>j</td>\n",
       "      <td>I- IMPRODUCTIVO</td>\n",
       "      <td>00</td>\n",
       "      <td>1.995</td>\n",
       "    </tr>\n",
       "    <tr>\n",
       "      <th>11</th>\n",
       "      <td>VIVIENDA</td>\n",
       "      <td></td>\n",
       "      <td>00</td>\n",
       "      <td>01</td>\n",
       "      <td>303</td>\n",
       "      <td></td>\n",
       "      <td></td>\n",
       "      <td>k</td>\n",
       "      <td>VT VÍA DE COMUNICACIÓN DE DOMINIO PÚBLICO</td>\n",
       "      <td>00</td>\n",
       "      <td>7.642</td>\n",
       "    </tr>\n",
       "    <tr>\n",
       "      <th>12</th>\n",
       "      <td>VIVIENDA</td>\n",
       "      <td></td>\n",
       "      <td>00</td>\n",
       "      <td>01</td>\n",
       "      <td>50</td>\n",
       "      <td></td>\n",
       "      <td></td>\n",
       "      <td>NaN</td>\n",
       "      <td>NaN</td>\n",
       "      <td>NaN</td>\n",
       "      <td>NaN</td>\n",
       "    </tr>\n",
       "    <tr>\n",
       "      <th>13</th>\n",
       "      <td>ALMACEN</td>\n",
       "      <td></td>\n",
       "      <td>00</td>\n",
       "      <td>03</td>\n",
       "      <td>38</td>\n",
       "      <td></td>\n",
       "      <td></td>\n",
       "      <td>NaN</td>\n",
       "      <td>NaN</td>\n",
       "      <td>NaN</td>\n",
       "      <td>NaN</td>\n",
       "    </tr>\n",
       "    <tr>\n",
       "      <th>14</th>\n",
       "      <td>ALMACEN</td>\n",
       "      <td></td>\n",
       "      <td>00</td>\n",
       "      <td>04</td>\n",
       "      <td>90</td>\n",
       "      <td></td>\n",
       "      <td></td>\n",
       "      <td>NaN</td>\n",
       "      <td>NaN</td>\n",
       "      <td>NaN</td>\n",
       "      <td>NaN</td>\n",
       "    </tr>\n",
       "    <tr>\n",
       "      <th>15</th>\n",
       "      <td>ALMACEN</td>\n",
       "      <td></td>\n",
       "      <td>00</td>\n",
       "      <td>05</td>\n",
       "      <td>38</td>\n",
       "      <td></td>\n",
       "      <td></td>\n",
       "      <td>NaN</td>\n",
       "      <td>NaN</td>\n",
       "      <td>NaN</td>\n",
       "      <td>NaN</td>\n",
       "    </tr>\n",
       "  </tbody>\n",
       "</table>\n",
       "</div>"
      ],
      "text/plain": [
       "   Uso principal Escalera Planta Puerta Superficie m2 Tipo Reforma  \\\n",
       "1        AGRARIO                                   40                \n",
       "2   OCIO HOSTEL.       00     01                  328                \n",
       "3   OCIO HOSTEL.              00     02           360                \n",
       "4   OCIO HOSTEL.              00     03           265                \n",
       "5       VIVIENDA              00     01           309                \n",
       "6        ALMACEN              00     01           117                \n",
       "7        ALMACEN              00     02           162                \n",
       "8       COMERCIO              00     01         1.107                \n",
       "9       COMERCIO              00     02           323                \n",
       "10      VIVIENDA              00     03           174                \n",
       "11      VIVIENDA              00     01           303                \n",
       "12      VIVIENDA              00     01            50                \n",
       "13       ALMACEN              00     03            38                \n",
       "14       ALMACEN              00     04            90                \n",
       "15       ALMACEN              00     05            38                \n",
       "\n",
       "   Fecha Reforma Subparcela                    Cultivo/Aprovechamiento  \\\n",
       "1                         a                         MM PINAR MADERABLE   \n",
       "2                         b                            I- IMPRODUCTIVO   \n",
       "3                         c  VT VÍA DE COMUNICACIÓN DE DOMINIO PÚBLICO   \n",
       "4                         d  VT VÍA DE COMUNICACIÓN DE DOMINIO PÚBLICO   \n",
       "5                         e  VT VÍA DE COMUNICACIÓN DE DOMINIO PÚBLICO   \n",
       "6                         f  VT VÍA DE COMUNICACIÓN DE DOMINIO PÚBLICO   \n",
       "7                         g                            I- IMPRODUCTIVO   \n",
       "8                         h  VT VÍA DE COMUNICACIÓN DE DOMINIO PÚBLICO   \n",
       "9                         i                            I- IMPRODUCTIVO   \n",
       "10                        j                            I- IMPRODUCTIVO   \n",
       "11                        k  VT VÍA DE COMUNICACIÓN DE DOMINIO PÚBLICO   \n",
       "12                      NaN                                        NaN   \n",
       "13                      NaN                                        NaN   \n",
       "14                      NaN                                        NaN   \n",
       "15                      NaN                                        NaN   \n",
       "\n",
       "   Intensidad Productiva Superficie m2  \n",
       "1                     09     1.276.981  \n",
       "2                     00    72.292.542  \n",
       "3                     00           904  \n",
       "4                     00         2.302  \n",
       "5                     00         9.449  \n",
       "6                     00         3.034  \n",
       "7                     00           174  \n",
       "8                     00        31.339  \n",
       "9                     00           581  \n",
       "10                    00         1.995  \n",
       "11                    00         7.642  \n",
       "12                   NaN           NaN  \n",
       "13                   NaN           NaN  \n",
       "14                   NaN           NaN  \n",
       "15                   NaN           NaN  "
      ]
     },
     "execution_count": 29,
     "metadata": {},
     "output_type": "execute_result"
    }
   ],
   "source": [
    "# se unen ambos DataFrames (asumiendo que habrá elementos NaN/VACIO/NULL)\n",
    "result = pd.concat([tablaConstr, tablaCult] , axis = 1)\n",
    "result"
   ]
  },
  {
   "cell_type": "code",
   "execution_count": 30,
   "metadata": {},
   "outputs": [],
   "source": [
    "# se pasan datos de DataFrames a otro fichero csv\n",
    "result.to_csv('./datosresult.csv',header = True,sep = ';', index = False,na_rep = 0)"
   ]
  },
  {
   "cell_type": "code",
   "execution_count": 31,
   "metadata": {},
   "outputs": [],
   "source": [
    "# para pasar los datos directamente en pdf(proporcionado por la propia pagina)mediante Objeto CONSULTA DESCRIPTIVA Y GRAFICA\n",
    "datos2=driver.find_element_by_id(\"ctl00_Contenido_lblConsulta\")\n",
    "datos2.click()"
   ]
  },
  {
   "cell_type": "code",
   "execution_count": 38,
   "metadata": {},
   "outputs": [],
   "source": [
    "# para posicionarse y desglosar opciones del Contenido de la tabla CARTOGRAFIA\n",
    "datos3=driver.find_element_by_id(\"ctl00_Contenido_lblCartografia\")"
   ]
  },
  {
   "cell_type": "code",
   "execution_count": 39,
   "metadata": {},
   "outputs": [],
   "source": [
    "datos3.click()"
   ]
  },
  {
   "cell_type": "code",
   "execution_count": 40,
   "metadata": {},
   "outputs": [],
   "source": [
    "# mostramos el mapa de la finca del Teide\n",
    "datos4=driver.find_element_by_id(\"ctl00_Contenido_lblMostrarCarto\")"
   ]
  },
  {
   "cell_type": "code",
   "execution_count": 41,
   "metadata": {},
   "outputs": [],
   "source": [
    "datos4.click()"
   ]
  },
  {
   "cell_type": "code",
   "execution_count": 42,
   "metadata": {},
   "outputs": [],
   "source": [
    "#si queremos volver a pagina anterior para teclera y obtener datos de otra parcela :\n",
    "driver.execute_script(\"window.history.go(-1)\")"
   ]
  }
 ],
 "metadata": {
  "kernelspec": {
   "display_name": "Python 3",
   "language": "python",
   "name": "python3"
  },
  "language_info": {
   "codemirror_mode": {
    "name": "ipython",
    "version": 3
   },
   "file_extension": ".py",
   "mimetype": "text/x-python",
   "name": "python",
   "nbconvert_exporter": "python",
   "pygments_lexer": "ipython3",
   "version": "3.7.3"
  }
 },
 "nbformat": 4,
 "nbformat_minor": 2
}
